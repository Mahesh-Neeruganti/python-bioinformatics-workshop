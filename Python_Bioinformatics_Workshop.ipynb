{
 "cells": [
  {
   "cell_type": "markdown",
   "id": "36fd93c1",
   "metadata": {},
   "source": [
    "# 🧬 Python for Bioinformatics - Full Week Colab Notebook\n",
    "Welcome to the hands-on notebook for your **Python for Bioinformatics** workshop. This notebook covers content from Day 1 to Day 7 including examples, activities, and mini projects.\n",
    "\n",
    "Each section below is designed for live demonstration, coding practice, and student interaction."
   ]
  },
  {
   "cell_type": "markdown",
   "id": "d78aef21",
   "metadata": {},
   "source": [
    "## 📅 Day 1: Introduction to Python for Bioinformatics"
   ]
  },
  {
   "cell_type": "markdown",
   "id": "148fa930",
   "metadata": {},
   "source": [
    "## 📅 Day 2: Python Programming Essentials"
   ]
  },
  {
   "cell_type": "markdown",
   "id": "ccf6d0b2",
   "metadata": {},
   "source": [
    "## 📅 Day 3: Control Structures and Loops"
   ]
  },
  {
   "cell_type": "markdown",
   "id": "5c5987d6",
   "metadata": {},
   "source": [
    "## 📅 Day 4: Functions and File Handling"
   ]
  },
  {
   "cell_type": "markdown",
   "id": "555f8d1e",
   "metadata": {},
   "source": [
    "## 📅 Day 5: Working with Biological Data (Biopython)"
   ]
  },
  {
   "cell_type": "markdown",
   "id": "fb60e0c5",
   "metadata": {},
   "source": [
    "## 📅 Day 6: Data Analysis and Visualization"
   ]
  },
  {
   "cell_type": "markdown",
   "id": "b74285b2",
   "metadata": {},
   "source": [
    "## 📅 Day 7: Mini Project & Wrap-Up"
   ]
  },
  {
   "cell_type": "code",
   "execution_count": null,
   "id": "7ac359b6",
   "metadata": {},
   "outputs": [],
   "source": [
    "# Day 1: First Python Code\n",
    "print(\"Hello, Bioinformatics!\")\n",
    "gene = \"BRCA1\"\n",
    "length = 1200\n",
    "print(gene, length)\n",
    "sequence = \"ATGCGTAA\"\n",
    "print(\"Sequence:\", sequence)\n",
    "print(\"Length:\", len(sequence))"
   ]
  },
  {
   "cell_type": "code",
   "execution_count": null,
   "id": "b52dcde9",
   "metadata": {},
   "outputs": [],
   "source": [
    "# Day 5: Biopython Example\n",
    "from Bio.Seq import Seq\n",
    "dna = Seq(\"ATGCGTACGTTAG\")\n",
    "print(\"Reverse Complement:\", dna.reverse_complement())\n",
    "print(\"RNA:\", dna.transcribe())\n",
    "print(\"Protein:\", dna.translate())"
   ]
  },
  {
   "cell_type": "code",
   "execution_count": null,
   "id": "b91aae1b",
   "metadata": {},
   "outputs": [],
   "source": [
    "# Day 6: Simple Gene Expression Plot\n",
    "import matplotlib.pyplot as plt\n",
    "genes = [\"TP53\", \"BRCA1\", \"EGFR\"]\n",
    "expression = [8.5, 7.2, 6.3]\n",
    "plt.bar(genes, expression)\n",
    "plt.xlabel(\"Gene\")\n",
    "plt.ylabel(\"Expression Level\")\n",
    "plt.title(\"Gene Expression Comparison\")\n",
    "plt.show()"
   ]
  },
  {
   "cell_type": "markdown",
   "id": "b4a363d9",
   "metadata": {},
   "source": [
    "## 🚀 Final Day: Mini Projects\n",
    "Choose from one of the project ideas below and build a solution using the Python skills you've learned:\n",
    "\n",
    "- **DNA Sequence Analyzer**\n",
    "- **Codon Usage Checker**\n",
    "- **Gene Expression Reporter**\n",
    "- **Motif Finder**\n",
    "\n",
    "Submit your code and present your logic to the class."
   ]
  }
 ],
 "metadata": {},
 "nbformat": 4,
 "nbformat_minor": 5
}
