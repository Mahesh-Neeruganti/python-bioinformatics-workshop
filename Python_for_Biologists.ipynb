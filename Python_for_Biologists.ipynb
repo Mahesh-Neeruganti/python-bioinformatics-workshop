{
  "nbformat": 4,
  "nbformat_minor": 0,
  "metadata": {
    "colab": {
      "provenance": [],
      "authorship_tag": "ABX9TyN0eo/65eDTVIALmX02kpZo",
      "include_colab_link": true
    },
    "kernelspec": {
      "name": "python3",
      "display_name": "Python 3"
    },
    "language_info": {
      "name": "python"
    }
  },
  "cells": [
    {
      "cell_type": "markdown",
      "metadata": {
        "id": "view-in-github",
        "colab_type": "text"
      },
      "source": [
        "<a href=\"https://colab.research.google.com/github/Mahesh-Neeruganti/python-bioinformatics-workshop/blob/main/Python_for_Biologists.ipynb\" target=\"_parent\"><img src=\"https://colab.research.google.com/assets/colab-badge.svg\" alt=\"Open In Colab\"/></a>"
      ]
    },
    {
      "cell_type": "markdown",
      "source": [
        "#                                                    🧪 Python for Biologists"
      ],
      "metadata": {
        "id": "3Q324f_0bkcc"
      }
    },
    {
      "cell_type": "markdown",
      "source": [
        "# New Section"
      ],
      "metadata": {
        "id": "hEN1u3YZx2yd"
      }
    },
    {
      "cell_type": "markdown",
      "source": [
        "##1. Why Python for Biologists?\n",
        "- ## Easy to learn and write.\n",
        "- ## Used in bioinformatics, genomics, and data analysis.\n",
        " ## .Libraries like Biopython, Pandas, NumPy, and Matplotlib are powerful tools.  \n",
        "\n"
      ],
      "metadata": {
        "id": "i8-4hqx7cBsc"
      }
    },
    {
      "cell_type": "markdown",
      "source": [
        "##  2. Your First Python Code"
      ],
      "metadata": {
        "id": "zApctUt1dTA7"
      }
    },
    {
      "cell_type": "code",
      "source": [
        "# This is a comment - it explains the code but is not executed\n",
        "print(\"Hello, Biologists!\")"
      ],
      "metadata": {
        "colab": {
          "base_uri": "https://localhost:8080/"
        },
        "id": "Tuhl46rrdjDO",
        "outputId": "283c51ef-20a3-4477-b357-c86e2ef68633"
      },
      "execution_count": null,
      "outputs": [
        {
          "output_type": "stream",
          "name": "stdout",
          "text": [
            "Hello, Biologists!\n"
          ]
        }
      ]
    },
    {
      "cell_type": "markdown",
      "source": [
        "##  3. Variables and Data Types"
      ],
      "metadata": {
        "id": "LuxQrkG8ctWf"
      }
    },
    {
      "cell_type": "code",
      "source": [
        "# Strings, numbers, booleans\n",
        "species = \"Homo sapiens\"\n",
        "expression_level = 5.8\n",
        "is_significant = True\n",
        "\n",
        "# Print values\n",
        "print(\"Species:\", species)\n",
        "print(\"Expression level:\", expression_level)\n",
        "print(\"Is significant?\", is_significant)\n"
      ],
      "metadata": {
        "colab": {
          "base_uri": "https://localhost:8080/"
        },
        "id": "5Vn8sN4MdyKi",
        "outputId": "bf53ad41-8684-411a-b665-9994f143550f"
      },
      "execution_count": null,
      "outputs": [
        {
          "output_type": "stream",
          "name": "stdout",
          "text": [
            "Species: Homo sapiens\n",
            "Expression level: 5.8\n",
            "Is significant? True\n"
          ]
        }
      ]
    },
    {
      "cell_type": "markdown",
      "source": [
        "###  Example: Concatenating strings"
      ],
      "metadata": {
        "id": "9eV3qfUEeLIk"
      }
    },
    {
      "cell_type": "code",
      "source": [
        "organism = \"Homo sapiens\"\n",
        "gene = \"TP53\"\n",
        "print(\"The gene \" + gene + \" belongs to \" + organism)"
      ],
      "metadata": {
        "colab": {
          "base_uri": "https://localhost:8080/"
        },
        "id": "6iTPO6aleUBE",
        "outputId": "0a3f466a-d051-4195-ede1-3a0787a899ba"
      },
      "execution_count": null,
      "outputs": [
        {
          "output_type": "stream",
          "name": "stdout",
          "text": [
            "The gene TP53 belongs to Homo sapiens\n"
          ]
        }
      ]
    },
    {
      "cell_type": "markdown",
      "source": [
        "###  Example: Type conversion"
      ],
      "metadata": {
        "id": "Jf4aP64xeZgb"
      }
    },
    {
      "cell_type": "code",
      "source": [
        "value = \"10.5\"\n",
        "converted_value = float(value)\n",
        "print(\"Converted float:\", converted_value)"
      ],
      "metadata": {
        "colab": {
          "base_uri": "https://localhost:8080/"
        },
        "id": "uXtPT4IceepS",
        "outputId": "7139d425-f61c-4400-c775-265ac91a375f"
      },
      "execution_count": null,
      "outputs": [
        {
          "output_type": "stream",
          "name": "stdout",
          "text": [
            "Converted float: 10.5\n"
          ]
        }
      ]
    },
    {
      "cell_type": "markdown",
      "source": [
        "## 4. Input and Output"
      ],
      "metadata": {
        "id": "F-IsfZ5zeokY"
      }
    },
    {
      "cell_type": "code",
      "source": [
        "# User input\n",
        "name = input(\"Enter your name: \")\n",
        "print(\"Welcome to the Python for Biologists workshop,\", name)"
      ],
      "metadata": {
        "colab": {
          "base_uri": "https://localhost:8080/"
        },
        "id": "u4rvbcyIevC8",
        "outputId": "fb31b6a1-7c84-42d3-bbf8-9222b9eddfa1"
      },
      "execution_count": null,
      "outputs": [
        {
          "output_type": "stream",
          "name": "stdout",
          "text": [
            "Enter your name: mahi\n",
            "Welcome to the Python for Biologists workshop, mahi\n"
          ]
        }
      ]
    },
    {
      "cell_type": "markdown",
      "source": [
        "###  Example: Input and calculation"
      ],
      "metadata": {
        "id": "XTC-H8qme1NJ"
      }
    },
    {
      "cell_type": "code",
      "source": [
        "# Get numeric input and calculate square\n",
        "num = int(input(\"Enter a number: \"))\n",
        "print(\"Square is:\", num * num)"
      ],
      "metadata": {
        "colab": {
          "base_uri": "https://localhost:8080/"
        },
        "id": "UrHuEa1Be6o4",
        "outputId": "c2119cf3-5a63-4f6f-b030-0ea730e0a1f3"
      },
      "execution_count": null,
      "outputs": [
        {
          "output_type": "stream",
          "name": "stdout",
          "text": [
            "Enter a number: 5\n",
            "Square is: 25\n"
          ]
        }
      ]
    },
    {
      "cell_type": "markdown",
      "source": [
        "## 📚 5. Practice Task 1"
      ],
      "metadata": {
        "id": "ZgIxYtBwe_Wu"
      }
    },
    {
      "cell_type": "markdown",
      "source": [
        "✅ Create 3 variables:\n",
        "1. `gene_name` – a string\n",
        "2. `fold_change` – a float\n",
        "3. `is_upregulated` – a boolean\n",
        "\n",
        "Then print them using the `print()` function.\n"
      ],
      "metadata": {
        "id": "Vi5CU5vifJJU"
      }
    },
    {
      "cell_type": "code",
      "source": [
        "# Your code here\n",
        "gene_name = \"BRCA1\"\n",
        "fold_change = 2.1\n",
        "is_upregulated = True\n",
        "\n",
        "print(\"Gene:\", gene_name)\n",
        "print(\"Fold Change:\", fold_change)\n",
        "print(\"Is Upregulated?\", is_upregulated)"
      ],
      "metadata": {
        "colab": {
          "base_uri": "https://localhost:8080/"
        },
        "id": "D2MY4EEkfLLJ",
        "outputId": "7db2bc97-22cd-4a11-da80-81714e44b696"
      },
      "execution_count": null,
      "outputs": [
        {
          "output_type": "stream",
          "name": "stdout",
          "text": [
            "Gene: BRCA1\n",
            "Fold Change: 2.1\n",
            "Is Upregulated? True\n"
          ]
        }
      ]
    },
    {
      "cell_type": "markdown",
      "source": [
        "## 📝 6. Comments and Indentation"
      ],
      "metadata": {
        "id": "LDIvlt3Jfi2o"
      }
    },
    {
      "cell_type": "code",
      "source": [
        "# Single-line comment\n",
        "# Checking if a gene is upregulated\n",
        "fold_change = 2.5\n",
        "\n",
        "if fold_change > 2.0:\n",
        "    print(\"Gene is upregulated\")  # Indented correctly\n",
        "\n"
      ],
      "metadata": {
        "colab": {
          "base_uri": "https://localhost:8080/"
        },
        "id": "nsx5mawXfqtc",
        "outputId": "4af22349-1ea8-4f4d-d740-ce21717e5d99"
      },
      "execution_count": null,
      "outputs": [
        {
          "output_type": "stream",
          "name": "stdout",
          "text": [
            "Gene is upregulated\n"
          ]
        }
      ]
    },
    {
      "cell_type": "markdown",
      "source": [
        "### ❌ This will cause an error (try it and fix it):"
      ],
      "metadata": {
        "id": "-F4KTkopgSgk"
      }
    },
    {
      "cell_type": "code",
      "source": [
        "# if fold_change > 2.0:\n",
        "# print(\"Gene is upregulated\")"
      ],
      "metadata": {
        "id": "SFZSlUOjgVl6"
      },
      "execution_count": null,
      "outputs": []
    },
    {
      "cell_type": "markdown",
      "source": [
        "# Multiline string example"
      ],
      "metadata": {
        "id": "d7y4tyM3gyuW"
      }
    },
    {
      "cell_type": "code",
      "source": [
        "description = \"\"\"BRCA1 is a tumor suppressor gene\n",
        "commonly mutated in breast cancer.\"\"\"\n",
        "print(description)"
      ],
      "metadata": {
        "colab": {
          "base_uri": "https://localhost:8080/"
        },
        "id": "A_yTGR5Bg1zy",
        "outputId": "c31a75fd-05f0-4ed8-9d7c-57e002f0bf49"
      },
      "execution_count": null,
      "outputs": [
        {
          "output_type": "stream",
          "name": "stdout",
          "text": [
            "BRCA1 is a tumor suppressor gene\n",
            "commonly mutated in breast cancer.\n"
          ]
        }
      ]
    },
    {
      "cell_type": "markdown",
      "source": [
        "# Boolean logic"
      ],
      "metadata": {
        "id": "mZayT5dvhEX3"
      }
    },
    {
      "cell_type": "code",
      "source": [
        "is_expressed = True\n",
        "if is_expressed:\n",
        "    print(\"Gene is expressed.\")\n",
        "else:\n",
        "    print(\"Gene is not expressed.\")"
      ],
      "metadata": {
        "colab": {
          "base_uri": "https://localhost:8080/"
        },
        "id": "OAWvVGnDhHWp",
        "outputId": "762f58a1-c879-4233-b6cd-ebb14cfad88a"
      },
      "execution_count": null,
      "outputs": [
        {
          "output_type": "stream",
          "name": "stdout",
          "text": [
            "Gene is expressed.\n"
          ]
        }
      ]
    },
    {
      "cell_type": "markdown",
      "source": [
        "## ✅ Day 1 Summary\n",
        "\n",
        "- Python is powerful for biological data analysis.\n",
        "- You learned about variables, types, input/output, and indentation.\n",
        "- Practice is key – experiment with your own gene-related variables."
      ],
      "metadata": {
        "id": "7yLnCRRYhd_Q"
      }
    },
    {
      "cell_type": "markdown",
      "source": [
        "## 📌 Homework"
      ],
      "metadata": {
        "id": "Fy8K5htvhhAT"
      }
    },
    {
      "cell_type": "markdown",
      "source": [
        "1. Ask for a gene name and fold change as input.\n",
        "2. Print a message if the fold change is > 1.5.\n"
      ],
      "metadata": {
        "id": "4Echn-OYhls7"
      }
    },
    {
      "cell_type": "markdown",
      "source": [
        "# 1. Ask for a gene name and fold change as input."
      ],
      "metadata": {
        "id": "Cs_6BlbwiTzy"
      }
    },
    {
      "cell_type": "code",
      "source": [
        "# Your code here\n",
        "gene_name = input(\"Enter gene name: \")\n",
        "fold_change = float(input(\"Enter fold change: \"))"
      ],
      "metadata": {
        "colab": {
          "base_uri": "https://localhost:8080/"
        },
        "id": "jNe7dmu0h8WK",
        "outputId": "92e463b0-3e2b-442b-b0cf-5396846df2c8"
      },
      "execution_count": null,
      "outputs": [
        {
          "name": "stdout",
          "output_type": "stream",
          "text": [
            "Enter gene name: BRCA\n",
            "Enter fold change: 1.2\n"
          ]
        }
      ]
    },
    {
      "cell_type": "markdown",
      "source": [
        "# 2. Print a message if the fold change is > 1.5."
      ],
      "metadata": {
        "id": "RweiRb7midaf"
      }
    },
    {
      "cell_type": "code",
      "source": [
        "if fold_change > 1.5:\n",
        "    print(gene_name, \"is upregulated with fold change:\", fold_change)\n",
        "else:\n",
        "    print(gene_name, \"is not significantly upregulated.\")"
      ],
      "metadata": {
        "colab": {
          "base_uri": "https://localhost:8080/"
        },
        "id": "jmXn-xNcig44",
        "outputId": "df964969-64ab-460d-f94a-36d10515ae2c"
      },
      "execution_count": null,
      "outputs": [
        {
          "output_type": "stream",
          "name": "stdout",
          "text": [
            "BRCA is not significantly upregulated.\n"
          ]
        }
      ]
    },
    {
      "cell_type": "markdown",
      "source": [
        "#                     🧪                     Python for Biologists\n",
        "# Day 2: Control Structures and Functions"
      ],
      "metadata": {
        "id": "E57QU-qOx_s0"
      }
    },
    {
      "cell_type": "markdown",
      "source": [
        "## 🔹 Objective:\n",
        "\n",
        "- Understand how to use conditional statements (if/elif/else)\n",
        "- Learn to use loops (for and while)\n",
        "- Define and call reusable functions\n",
        "- Apply control structures in biological examples"
      ],
      "metadata": {
        "id": "F7bv31WJyT2X"
      }
    },
    {
      "cell_type": "markdown",
      "source": [
        "## 🔍 1. Conditional Statements (`if`, `elif`, `else`)\n",
        "Used to execute code based on conditions, e.g., gene expression thresholds."
      ],
      "metadata": {
        "id": "ZiibncP0ybtI"
      }
    },
    {
      "cell_type": "code",
      "source": [
        "       SYNTAX\n",
        "\n",
        "  \"\"\"if condition:\n",
        "    # code block\n",
        "elif another_condition:\n",
        "    # another block\n",
        "else:\n",
        "    # fallback block \"\"\"\n"
      ],
      "metadata": {
        "id": "gvl9leoo4fLX"
      },
      "execution_count": null,
      "outputs": []
    },
    {
      "cell_type": "code",
      "source": [
        "# Example: Gene expression fold change\n",
        "fold_change = 0.1\n",
        "\n",
        "if fold_change > 2.0:\n",
        "    print(\"Gene is upregulated\")\n",
        "elif fold_change < 0.5:\n",
        "    print(\"Gene is downregulated\")\n",
        "else:\n",
        "    print(\"No significant change\")"
      ],
      "metadata": {
        "colab": {
          "base_uri": "https://localhost:8080/"
        },
        "id": "CnL_GxOWyvW2",
        "outputId": "7ba88707-eb2a-412e-d438-407330c830f7"
      },
      "execution_count": null,
      "outputs": [
        {
          "output_type": "stream",
          "name": "stdout",
          "text": [
            "Gene is downregulated\n"
          ]
        }
      ]
    },
    {
      "cell_type": "markdown",
      "source": [
        "## 🔁 2. Loops: `for` and `while`\n",
        "Loops are used to repeat a block of code multiple times, useful for analyzing lists of genes, sequences, or samples."
      ],
      "metadata": {
        "id": "t276afuEzVmJ"
      }
    },
    {
      "cell_type": "markdown",
      "source": [
        "### ➕ `for` loop with biological data:\n",
        "##Iterates over a list, string, or range."
      ],
      "metadata": {
        "id": "L1GmygTF4404"
      }
    },
    {
      "cell_type": "code",
      "source": [
        "\n",
        "genes = [\"TP53\", \"BRCA1\", \"EGFR\"]\n",
        "\n",
        "for gene in genes:\n",
        "    print(\"Analyzing:\", gene)"
      ],
      "metadata": {
        "colab": {
          "base_uri": "https://localhost:8080/"
        },
        "id": "B5VK6bETzd2y",
        "outputId": "33da8bd9-498e-4c14-dfee-464357bde209"
      },
      "execution_count": null,
      "outputs": [
        {
          "output_type": "stream",
          "name": "stdout",
          "text": [
            "Analyzing: TP53\n",
            "Analyzing: BRCA1\n",
            "Analyzing: EGFR\n"
          ]
        }
      ]
    },
    {
      "cell_type": "markdown",
      "source": [
        "### 🔢 `enumerate()` to show index:"
      ],
      "metadata": {
        "id": "VS4JhGR9z9dJ"
      }
    },
    {
      "cell_type": "code",
      "source": [
        "for i, gene in enumerate(genes):\n",
        "    print(f\"{i+1}. {gene}\")"
      ],
      "metadata": {
        "colab": {
          "base_uri": "https://localhost:8080/"
        },
        "id": "X-ulAUOm0AXS",
        "outputId": "60f14bd2-09d7-4eae-d90e-f41e6ad72c77"
      },
      "execution_count": null,
      "outputs": [
        {
          "output_type": "stream",
          "name": "stdout",
          "text": [
            "1. TP53\n",
            "2. BRCA1\n",
            "3. EGFR\n"
          ]
        }
      ]
    },
    {
      "cell_type": "markdown",
      "source": [
        "### 🔄 `while` loop example:\n",
        "Repeats as long as the condition is true.\n",
        "#🛑 Be careful! Infinite loops happen if the condition never becomes false."
      ],
      "metadata": {
        "id": "Fz-i2S3X0Jy7"
      }
    },
    {
      "cell_type": "code",
      "source": [
        "count = 0\n",
        "while count < 3:\n",
        "    print(\"Count:\", count)\n",
        "    count += 1"
      ],
      "metadata": {
        "colab": {
          "base_uri": "https://localhost:8080/"
        },
        "id": "jnp0qNt80OIz",
        "outputId": "96bcb834-7f1b-4378-a0a6-710f2c87e405"
      },
      "execution_count": null,
      "outputs": [
        {
          "output_type": "stream",
          "name": "stdout",
          "text": [
            "Count: 0\n",
            "Count: 1\n",
            "Count: 2\n"
          ]
        }
      ]
    },
    {
      "cell_type": "markdown",
      "source": [
        "## 🧬 3. Defining and Calling Functions\n",
        "#functions help organize code into reusable blocks.\n",
        " # Why use functions?\n",
        "# Clean, modular code\n",
        "\n",
        "#Reusable in different analyses\n",
        "\n",
        "#Accept input and return output"
      ],
      "metadata": {
        "id": "xmv4Ush400Nt"
      }
    },
    {
      "cell_type": "code",
      "source": [
        "def function_name(parameters):\n",
        "    # block\n",
        "    return result"
      ],
      "metadata": {
        "id": "jbO6-Vx402IZ"
      },
      "execution_count": null,
      "outputs": []
    },
    {
      "cell_type": "markdown",
      "source": [
        "### 🧪 Example 1: Greeting function"
      ],
      "metadata": {
        "id": "pIJfDael07T5"
      }
    },
    {
      "cell_type": "code",
      "source": [
        "def greet(name):\n",
        "    print(\"Hello,\", name)\n",
        "\n",
        "greet(\"Biologist\")"
      ],
      "metadata": {
        "colab": {
          "base_uri": "https://localhost:8080/"
        },
        "id": "wk38F43-0_Bx",
        "outputId": "c20d2e2e-4608-4199-f4c4-2895cf34adb5"
      },
      "execution_count": null,
      "outputs": [
        {
          "output_type": "stream",
          "name": "stdout",
          "text": [
            "Hello, Biologist\n"
          ]
        }
      ]
    },
    {
      "cell_type": "markdown",
      "source": [
        "### 🧪 Example 2: GC Content Calculator"
      ],
      "metadata": {
        "id": "s_ltv4_l1Hz5"
      }
    },
    {
      "cell_type": "code",
      "source": [
        "def gc_content(sequence):\n",
        "    gc = sequence.count(\"G\") + sequence.count(\"C\")\n",
        "    return (gc / len(sequence)) * 100\n",
        "\n",
        "seq = \"ATGCGC\"\n",
        "print(\"GC Content:\", gc_content(seq), \"%\")"
      ],
      "metadata": {
        "colab": {
          "base_uri": "https://localhost:8080/"
        },
        "id": "y6XLVFCt1LA9",
        "outputId": "c9be825c-3f8a-4987-91d7-b6e26c0ffd71"
      },
      "execution_count": null,
      "outputs": [
        {
          "output_type": "stream",
          "name": "stdout",
          "text": [
            "GC Content: 66.66666666666666 %\n"
          ]
        }
      ]
    },
    {
      "cell_type": "markdown",
      "source": [
        "## 🔁 4. Writing Reusable Code"
      ],
      "metadata": {
        "id": "ziqvNS8I1VWL"
      }
    },
    {
      "cell_type": "code",
      "source": [
        "def analyze_sequence(seq):\n",
        "    print(\"Length:\", len(seq))\n",
        "    print(\"GC Content:\", gc_content(seq), \"%\")\n",
        "\n",
        "analyze_sequence(\"ATGCGCGGFHBHBHVBHCVJGCTA\")"
      ],
      "metadata": {
        "colab": {
          "base_uri": "https://localhost:8080/"
        },
        "id": "5o7TAVJI1WSx",
        "outputId": "f1a2737e-f491-4655-ef86-2b73b046dc32"
      },
      "execution_count": null,
      "outputs": [
        {
          "output_type": "stream",
          "name": "stdout",
          "text": [
            "Length: 24\n",
            "GC Content: 37.5 %\n"
          ]
        }
      ]
    },
    {
      "cell_type": "markdown",
      "source": [
        "## ✅ Day 2 Summary\n",
        "\n",
        "- Control flow makes your code dynamic and intelligent.\n",
        "- Loops let you process multiple genes or samples.\n",
        "- Functions make your code modular and reusable.\n",
        "- You built biological functions like GC content calculators."
      ],
      "metadata": {
        "id": "mf1r6uxs1s8v"
      }
    },
    {
      "cell_type": "markdown",
      "source": [
        "## 📌 Homework"
      ],
      "metadata": {
        "id": "G4p-Fh4w1v3h"
      }
    },
    {
      "cell_type": "markdown",
      "source": [
        "1. Write a function that takes a DNA sequence and returns AT content.\n",
        "2. Create a list of gene fold changes and use a loop to print if each is upregulated (>2.0).\n"
      ],
      "metadata": {
        "id": "uKETmfnR10px"
      }
    },
    {
      "cell_type": "markdown",
      "source": [
        "# 1. Write a function that takes a DNA sequence and returns AT content."
      ],
      "metadata": {
        "id": "MScJDccR2hiI"
      }
    },
    {
      "cell_type": "code",
      "source": [
        "sequence = \"ATCGATTAAG\"\n",
        "result = calculate_at_content(sequence)\n",
        "print(\"AT Content:\", result)\n"
      ],
      "metadata": {
        "colab": {
          "base_uri": "https://localhost:8080/"
        },
        "id": "xY1ZCm0K2LfA",
        "outputId": "64ca59fd-eec7-4d86-c242-84adc044be2e"
      },
      "execution_count": null,
      "outputs": [
        {
          "output_type": "stream",
          "name": "stdout",
          "text": [
            "AT Content: 0.7\n"
          ]
        }
      ]
    },
    {
      "cell_type": "markdown",
      "source": [
        "#2. Create a list of gene fold changes and use a loop to print if each is upregulated (>2.0).\n"
      ],
      "metadata": {
        "id": "r0hEoThS2isu"
      }
    },
    {
      "cell_type": "code",
      "source": [
        "fold_changes = [1.2, 2.5, 3.1, 0.9, 5.0]\n",
        "\n",
        "for value in fold_changes:\n",
        "    if value > 2.0:\n",
        "        print(value, \"is upregulated\")\n",
        "    else:\n",
        "        print(value, \"is not upregulated\")\n"
      ],
      "metadata": {
        "colab": {
          "base_uri": "https://localhost:8080/"
        },
        "id": "hah6clG62s4l",
        "outputId": "81793b91-6975-4057-c31a-9674d6a91927"
      },
      "execution_count": null,
      "outputs": [
        {
          "output_type": "stream",
          "name": "stdout",
          "text": [
            "1.2 is not upregulated\n",
            "2.5 is upregulated\n",
            "3.1 is upregulated\n",
            "0.9 is not upregulated\n",
            "5.0 is upregulated\n"
          ]
        }
      ]
    },
    {
      "cell_type": "markdown",
      "source": [
        "# 🧪 Python for Biologists - Day 3: Lists, Dictionaries, and File Handling"
      ],
      "metadata": {
        "id": "WecYJNvR9jpy"
      }
    },
    {
      "cell_type": "markdown",
      "source": [
        "## 🔹 Objective:\n",
        "\n",
        "- Learn how to use lists and dictionaries to represent biological data\n",
        "- Read from and write to biological files (TXT, CSV, FASTA)\n",
        "- Parse basic sequence data"
      ],
      "metadata": {
        "id": "0mSayObe9oVP"
      }
    },
    {
      "cell_type": "markdown",
      "source": [
        "## 📚 1. Lists in Biology"
      ],
      "metadata": {
        "id": "SedD13hG9v_K"
      }
    },
    {
      "cell_type": "markdown",
      "source": [
        "## 🔸 What is a list?\n",
        "- A collection of values.\n",
        "- Ordered, mutable, and allows duplicates."
      ],
      "metadata": {
        "id": "rRuj-4Ma94-w"
      }
    },
    {
      "cell_type": "markdown",
      "source": [
        "### 🧪 Example: List of gene names"
      ],
      "metadata": {
        "id": "RU1hclGK98v_"
      }
    },
    {
      "cell_type": "code",
      "source": [
        "genes = [\"TP53\", \"BRCA1\", \"EGFR\", \"MYC\"]\n",
        "print(\"Gene list:\", genes)"
      ],
      "metadata": {
        "colab": {
          "base_uri": "https://localhost:8080/"
        },
        "id": "9kHnouXI9zBK",
        "outputId": "08b850cd-422b-45ef-f6df-63e64979e124"
      },
      "execution_count": null,
      "outputs": [
        {
          "output_type": "stream",
          "name": "stdout",
          "text": [
            "Gene list: ['TP53', 'BRCA1', 'EGFR', 'MYC']\n"
          ]
        }
      ]
    },
    {
      "cell_type": "markdown",
      "source": [
        "### 🧪 Access and modify list items:"
      ],
      "metadata": {
        "id": "R7zxnxh_-EaE"
      }
    },
    {
      "cell_type": "code",
      "source": [
        "print(\"First gene:\", genes[0])\n",
        "genes[2] = \"KRAS\"\n",
        "print(\"Updated list:\", genes)"
      ],
      "metadata": {
        "colab": {
          "base_uri": "https://localhost:8080/"
        },
        "id": "t00AyqVd-JCm",
        "outputId": "397b3ecd-df65-4c17-ff62-0b11c54e2a61"
      },
      "execution_count": null,
      "outputs": [
        {
          "output_type": "stream",
          "name": "stdout",
          "text": [
            "First gene: TP53\n",
            "Updated list: ['TP53', 'BRCA1', 'KRAS', 'MYC']\n"
          ]
        }
      ]
    },
    {
      "cell_type": "markdown",
      "source": [
        "### 🔁 Looping through a list:"
      ],
      "metadata": {
        "id": "V2VYyezZ-NI9"
      }
    },
    {
      "cell_type": "code",
      "source": [
        "for gene in genes:\n",
        "    print(\"Analyzing:\", gene)"
      ],
      "metadata": {
        "colab": {
          "base_uri": "https://localhost:8080/"
        },
        "id": "GVwIApLy-QXm",
        "outputId": "83088318-7cc7-4485-f02b-b2cc0bbd4706"
      },
      "execution_count": null,
      "outputs": [
        {
          "output_type": "stream",
          "name": "stdout",
          "text": [
            "Analyzing: TP53\n",
            "Analyzing: BRCA1\n",
            "Analyzing: KRAS\n",
            "Analyzing: MYC\n"
          ]
        }
      ]
    },
    {
      "cell_type": "markdown",
      "source": [
        "## 🧬 2. Dictionaries in Biology"
      ],
      "metadata": {
        "id": "NCiuSB0V-mS3"
      }
    },
    {
      "cell_type": "markdown",
      "source": [
        "### 🔸 What is a dictionary?\n",
        "- Stores key-value pairs (e.g., gene name → expression level)\n"
      ],
      "metadata": {
        "id": "p4SlStqn-pre"
      }
    },
    {
      "cell_type": "markdown",
      "source": [
        "### 🧪 Example: Gene expression data"
      ],
      "metadata": {
        "id": "Y1FuNmfz-tWS"
      }
    },
    {
      "cell_type": "code",
      "source": [
        "expression = {\n",
        "    \"TP53\": 5.8,\n",
        "    \"BRCA1\": 7.2,\n",
        "    \"EGFR\": 4.9\n",
        "}\n",
        "print(\"BRCA1 Expression:\", expression[\"BRCA1\"])"
      ],
      "metadata": {
        "colab": {
          "base_uri": "https://localhost:8080/"
        },
        "id": "5Af42HNA-xIE",
        "outputId": "32f8b409-f252-4d64-dfbc-0d9cb7db83ef"
      },
      "execution_count": null,
      "outputs": [
        {
          "output_type": "stream",
          "name": "stdout",
          "text": [
            "BRCA1 Expression: 7.2\n"
          ]
        }
      ]
    },
    {
      "cell_type": "markdown",
      "source": [
        "### ➕ Add or update values:\n",
        "```python\n",
        "expression[\"MYC\"] = 6.1\n",
        "expression[\"EGFR\"] = 5.2\n",
        "print(expression)"
      ],
      "metadata": {
        "id": "jD9Aj74B_Cbt"
      }
    },
    {
      "cell_type": "markdown",
      "source": [
        "## 📂 3. Reading and Writing Files\n",
        "Why File I/O?\n",
        "Biologists often work with files like:\n",
        "\n",
        "FASTA – for sequences\n",
        "\n",
        "CSV/TXT – for gene expression or metadata\n",
        "\n",
        "GenBank/JSON/XML – for structured data"
      ],
      "metadata": {
        "id": "vEDl4YZ0_aPp"
      }
    },
    {
      "cell_type": "markdown",
      "source": [
        "### 🔸 Reading a text file (TXT):"
      ],
      "metadata": {
        "id": "M-cBTSsX_d0f"
      }
    },
    {
      "cell_type": "code",
      "source": [
        "# Create a sample text file first (for Colab users)\n",
        "with open(\"sample_genes.txt\", \"w\") as f:\n",
        "    f.write(\"TP53\\nBRCA1\\nEGFR\\n\")"
      ],
      "metadata": {
        "id": "LILYbbLB_bQn"
      },
      "execution_count": null,
      "outputs": []
    },
    {
      "cell_type": "markdown",
      "source": [
        "# Reading the file"
      ],
      "metadata": {
        "id": "EyYQloXr_p1M"
      }
    },
    {
      "cell_type": "code",
      "source": [
        "with open(\"sample_genes.txt\", \"r\") as f:\n",
        "    for line in f:\n",
        "        print(\"Gene:\", line.strip())"
      ],
      "metadata": {
        "colab": {
          "base_uri": "https://localhost:8080/"
        },
        "id": "5-kAlfgM_sny",
        "outputId": "ba72779b-f907-433b-f280-229c9b463232"
      },
      "execution_count": null,
      "outputs": [
        {
          "output_type": "stream",
          "name": "stdout",
          "text": [
            "Gene: TP53\n",
            "Gene: BRCA1\n",
            "Gene: EGFR\n"
          ]
        }
      ]
    },
    {
      "cell_type": "markdown",
      "source": [
        "### 📄 Writing to a file:"
      ],
      "metadata": {
        "id": "SLr9RxwN_y5M"
      }
    },
    {
      "cell_type": "code",
      "source": [
        "with open(\"output.txt\", \"w\") as f:\n",
        "    f.write(\"Results from analysis\\n\")\n",
        "    f.write(\"TP53: Upregulated\\n\")"
      ],
      "metadata": {
        "id": "eKpsDsU9_3IA"
      },
      "execution_count": null,
      "outputs": []
    },
    {
      "cell_type": "markdown",
      "source": [
        "### 📈 Reading CSV using pandas:"
      ],
      "metadata": {
        "id": "wllw5OR3AGka"
      }
    },
    {
      "cell_type": "code",
      "source": [
        "import pandas as pd\n"
      ],
      "metadata": {
        "id": "LDbwyrfKALhQ"
      },
      "execution_count": null,
      "outputs": []
    },
    {
      "cell_type": "markdown",
      "source": [
        "# Simulate CSV data"
      ],
      "metadata": {
        "id": "oJuyLRbMAS-l"
      }
    },
    {
      "cell_type": "code",
      "source": [
        "df = pd.DataFrame({\n",
        "    \"Gene\": [\"TP53\", \"BRCA1\", \"EGFR\"],\n",
        "    \"Expression\": [5.6, 7.3, 4.8]\n",
        "})"
      ],
      "metadata": {
        "id": "T0wuV4IhAUGx"
      },
      "execution_count": null,
      "outputs": []
    },
    {
      "cell_type": "markdown",
      "source": [
        "# Save and read the file"
      ],
      "metadata": {
        "id": "iyRrz6aeAgph"
      }
    },
    {
      "cell_type": "code",
      "source": [
        "csv_path = \"gene_expression.csv\"\n",
        "df.to_csv(csv_path, index=False)"
      ],
      "metadata": {
        "id": "IFFdw84HAhlE"
      },
      "execution_count": null,
      "outputs": []
    },
    {
      "cell_type": "markdown",
      "source": [
        "# Read CSV"
      ],
      "metadata": {
        "id": "1HawaHEpAynJ"
      }
    },
    {
      "cell_type": "code",
      "source": [
        "data = pd.read_csv(csv_path)\n",
        "print(data)"
      ],
      "metadata": {
        "colab": {
          "base_uri": "https://localhost:8080/"
        },
        "id": "I_hW-ts_Azig",
        "outputId": "d2ac8b9e-34dc-4f1b-f0c7-998c3e1c33a5"
      },
      "execution_count": null,
      "outputs": [
        {
          "output_type": "stream",
          "name": "stdout",
          "text": [
            "    Gene  Expression\n",
            "0   TP53         5.6\n",
            "1  BRCA1         7.3\n",
            "2   EGFR         4.8\n"
          ]
        }
      ]
    },
    {
      "cell_type": "markdown",
      "source": [
        "## 🧬 4. Parsing a FASTA File\n",
        "### 🔸 Format Reminder:\n",
        "\n",
        "#>seq1\n",
        "#ATGCGA\n",
        "#>seq2\n",
        "#TTGGCA"
      ],
      "metadata": {
        "id": "qg1NBwtBA4PA"
      }
    },
    {
      "cell_type": "markdown",
      "source": [
        "### 🧪 Parse FASTA manually:"
      ],
      "metadata": {
        "id": "I2-pYXkNBO82"
      }
    },
    {
      "cell_type": "code",
      "source": [
        "fasta = \">seq1\\nATGCGA\\n>seq2\\nTTGGCA\"\n",
        "\n",
        "lines = fasta.split(\"\\n\")\n",
        "for line in lines:\n",
        "    if line.startswith(\">\"):\n",
        "        print(\"Header:\", line)\n",
        "    else:\n",
        "        print(\"Sequence:\", line)"
      ],
      "metadata": {
        "colab": {
          "base_uri": "https://localhost:8080/"
        },
        "id": "DOrOWIUuA5kb",
        "outputId": "e26cba47-6c66-4f6e-8be6-13964a0df9b2"
      },
      "execution_count": null,
      "outputs": [
        {
          "output_type": "stream",
          "name": "stdout",
          "text": [
            "Header: >seq1\n",
            "Sequence: ATGCGA\n",
            "Header: >seq2\n",
            "Sequence: TTGGCA\n"
          ]
        }
      ]
    },
    {
      "cell_type": "markdown",
      "source": [
        "## 📌 Practice Tasks"
      ],
      "metadata": {
        "id": "qI-61CKKBe0C"
      }
    },
    {
      "cell_type": "markdown",
      "source": [
        "1. Create a list of 5 DNA sequences and print their lengths using a loop.\n",
        "2. Create a dictionary of 3 genes with fold change values and print if they are upregulated (>2.0).\n",
        "3. Read a text file with one gene name per line and print them in uppercase."
      ],
      "metadata": {
        "id": "AH4mE392Bgtu"
      }
    },
    {
      "cell_type": "markdown",
      "source": [
        "## ✅ Day 3 Summary\n",
        "- Lists are useful for storing groups of items (e.g., gene names)\n",
        "- Dictionaries map keys to values (e.g., expression levels)\n",
        "- Python can read/write biological data in files like TXT, CSV, FASTA"
      ],
      "metadata": {
        "id": "QBnntzgaBmxE"
      }
    },
    {
      "cell_type": "markdown",
      "source": [
        "## 📌 Homework"
      ],
      "metadata": {
        "id": "_YVGJtEyBtWJ"
      }
    },
    {
      "cell_type": "markdown",
      "source": [
        "1. Write a dictionary that maps gene names to their chromosomal locations.\n",
        "2. Write a script that reads a FASTA string and prints the total sequence length."
      ],
      "metadata": {
        "id": "rvnJ_nuWBuf4"
      }
    },
    {
      "cell_type": "markdown",
      "source": [
        "1. Write a dictionary that maps gene names to their chromosomal locations."
      ],
      "metadata": {
        "id": "KPOsc30qB89T"
      }
    },
    {
      "cell_type": "code",
      "source": [
        "# Dictionary mapping genes to their chromosome locations\n",
        "gene_locations = {\n",
        "    \"TP53\": \"chr17\",\n",
        "    \"BRCA1\": \"chr17\",\n",
        "    \"BRCA2\": \"chr13\",\n",
        "    \"EGFR\": \"chr7\",\n",
        "    \"MYC\": \"chr8\"\n",
        "}\n",
        "\n",
        "# Print the chromosome for one gene\n",
        "print(\"TP53 is located on:\", gene_locations[\"TP53\"])\n"
      ],
      "metadata": {
        "id": "TFZUqGBJB9--"
      },
      "execution_count": null,
      "outputs": []
    },
    {
      "cell_type": "markdown",
      "source": [
        "2. Write a script that reads a FASTA string and prints the total sequence length."
      ],
      "metadata": {
        "id": "kjQAw2jkCEle"
      }
    },
    {
      "cell_type": "code",
      "source": [
        "fasta_data = \"\"\">gene1\n",
        "ATGCGTAACGTAGCTAGCTAGCGTAGCTA\n",
        "GCTAGCTAGCTAGCGTACGTAGCTAGCTA\"\"\"\n",
        "\n",
        "# Split lines, ignore the first (header), join the rest as the full sequence\n",
        "lines = fasta_data.splitlines()\n",
        "sequence_only = \"\".join(lines[1:])  # skip header line (starts with >)\n",
        "sequence_length = len(sequence_only)\n",
        "\n",
        "print(\"Total sequence length:\", sequence_length)\n"
      ],
      "metadata": {
        "colab": {
          "base_uri": "https://localhost:8080/"
        },
        "id": "i3_ob2A8CIY2",
        "outputId": "73327192-2e13-4655-ace9-170561048405"
      },
      "execution_count": null,
      "outputs": [
        {
          "output_type": "stream",
          "name": "stdout",
          "text": [
            "Total sequence length: 58\n"
          ]
        }
      ]
    },
    {
      "cell_type": "markdown",
      "source": [],
      "metadata": {
        "id": "uG7-YFkQCuqS"
      }
    },
    {
      "cell_type": "markdown",
      "source": [
        "# 🧪 Python for Biologists - Day 4: Working with Biological Data"
      ],
      "metadata": {
        "id": "EAu3nADyD9vr"
      }
    },
    {
      "cell_type": "markdown",
      "source": [
        "## 🔹 Objective:\n",
        "- Use Biopython for DNA/RNA/protein manipulation\n",
        "- Perform transcription, translation, and reverse complement operations\n",
        "- Read and write FASTA files\n",
        "- Apply sequence-based analysis in real biological use cases"
      ],
      "metadata": {
        "id": "7ZB_getJD_MR"
      }
    },
    {
      "cell_type": "markdown",
      "source": [
        "## 📦 1. Installing Biopython\n",
        "What is Biopython?\n",
        "A powerful open-source library for biological computation.\n",
        "\n",
        "Helps manipulate biological sequences, run BLAST, parse GenBank/FASTA files, and more.\n",
        "\n",
        "Widely used in genomics, proteomics, and bioinformatics research.\n",
        "\n",
        "#Installation:\n",
        "Already available in Google Colab:"
      ],
      "metadata": {
        "id": "0tf3c19oEFSj"
      }
    },
    {
      "cell_type": "code",
      "source": [
        "# Biopython comes pre-installed in Colab, but you can install it manually:\n",
        "!pip install biopython"
      ],
      "metadata": {
        "colab": {
          "base_uri": "https://localhost:8080/"
        },
        "id": "rOpunEC9EHB6",
        "outputId": "8c2a6d40-c5e4-4446-9282-59673f530225"
      },
      "execution_count": null,
      "outputs": [
        {
          "output_type": "stream",
          "name": "stdout",
          "text": [
            "Collecting biopython\n",
            "  Downloading biopython-1.85-cp311-cp311-manylinux_2_17_x86_64.manylinux2014_x86_64.whl.metadata (13 kB)\n",
            "Requirement already satisfied: numpy in /usr/local/lib/python3.11/dist-packages (from biopython) (2.0.2)\n",
            "Downloading biopython-1.85-cp311-cp311-manylinux_2_17_x86_64.manylinux2014_x86_64.whl (3.3 MB)\n",
            "\u001b[2K   \u001b[90m━━━━━━━━━━━━━━━━━━━━━━━━━━━━━━━━━━━━━━━━\u001b[0m \u001b[32m3.3/3.3 MB\u001b[0m \u001b[31m28.0 MB/s\u001b[0m eta \u001b[36m0:00:00\u001b[0m\n",
            "\u001b[?25hInstalling collected packages: biopython\n",
            "Successfully installed biopython-1.85\n"
          ]
        }
      ]
    },
    {
      "cell_type": "markdown",
      "source": [
        "#                                 Common Modules:\n",
        "\n",
        "| Module      | Purpose                                          |\n",
        "| ----------- | ------------------------------------------------ |\n",
        "| `Bio.Seq`   | Sequence objects (DNA, RNA, Protein)             |\n",
        "| `Bio.SeqIO` | Input/output for sequence files (FASTA, GenBank) |\n",
        "| `Bio.Align` | Sequence alignment                               |\n",
        "| `Bio.Blast` | BLAST searches                                   |\n",
        "| `Bio.PDB`   | Structural bioinformatics (PDB files)            |\n"
      ],
      "metadata": {
        "id": "St2uMiPJIKaH"
      }
    },
    {
      "cell_type": "markdown",
      "source": [
        "## 🧬 2. DNA Sequence Handling\n"
      ],
      "metadata": {
        "id": "WWnoLgvGER3G"
      }
    },
    {
      "cell_type": "markdown",
      "source": [
        "### 🔹 Creating a sequence:"
      ],
      "metadata": {
        "id": "y37EDIXmEWBn"
      }
    },
    {
      "cell_type": "code",
      "source": [
        "from Bio.Seq import Seq\n",
        "\n",
        "dna = Seq(\"ATGGCCATTGTAATGGGCCGCTGAAAGGGTGCCCGATAG\")\n",
        "print(\"DNA:\", dna)"
      ],
      "metadata": {
        "colab": {
          "base_uri": "https://localhost:8080/"
        },
        "id": "8x7tQsz9ETMV",
        "outputId": "4dd447a3-40f1-495d-8db7-828ecf66b708"
      },
      "execution_count": null,
      "outputs": [
        {
          "output_type": "stream",
          "name": "stdout",
          "text": [
            "DNA: ATGGCCATTGTAATGGGCCGCTGAAAGGGTGCCCGATAG\n"
          ]
        }
      ]
    },
    {
      "cell_type": "markdown",
      "source": [
        "### 🔁 Reverse Complement:"
      ],
      "metadata": {
        "id": "zUlxpZLZEcUd"
      }
    },
    {
      "cell_type": "code",
      "source": [
        "print(\"Reverse Complement:\", dna.reverse_complement())"
      ],
      "metadata": {
        "colab": {
          "base_uri": "https://localhost:8080/"
        },
        "id": "Rj-IOS7jEfgi",
        "outputId": "a9cee02b-628f-4166-faf4-694cf213cb81"
      },
      "execution_count": null,
      "outputs": [
        {
          "output_type": "stream",
          "name": "stdout",
          "text": [
            "Reverse Complement: CTATCGGGCACCCTTTCAGCGGCCCATTACAATGGCCAT\n"
          ]
        }
      ]
    },
    {
      "cell_type": "markdown",
      "source": [
        " # Key Features:\n",
        "len(seq) → sequence length\n",
        "\n",
        "seq.count(\"A\") → count of nucleotides\n",
        "\n",
        "seq[0:10] → slicing like strings\n",
        "\n"
      ],
      "metadata": {
        "id": "TM0WblNlIokS"
      }
    },
    {
      "cell_type": "markdown",
      "source": [
        "### 🔁 Transcription:"
      ],
      "metadata": {
        "id": "qbKjdWwBEjYn"
      }
    },
    {
      "cell_type": "code",
      "source": [
        "rna = dna.transcribe()\n",
        "print(\"RNA:\", rna)"
      ],
      "metadata": {
        "colab": {
          "base_uri": "https://localhost:8080/"
        },
        "id": "_d43h8Y-Emj8",
        "outputId": "630e93ef-ffed-4777-d625-b5919c8abc68"
      },
      "execution_count": null,
      "outputs": [
        {
          "output_type": "stream",
          "name": "stdout",
          "text": [
            "RNA: AUGGCCAUUGUAAUGGGCCGCUGAAAGGGUGCCCGAUAG\n"
          ]
        }
      ]
    },
    {
      "cell_type": "markdown",
      "source": [
        "### 🔁 Translation:\n"
      ],
      "metadata": {
        "id": "3RhsdibnEpif"
      }
    },
    {
      "cell_type": "code",
      "source": [
        "protein = dna.translate()\n",
        "print(\"Protein:\", protein)"
      ],
      "metadata": {
        "colab": {
          "base_uri": "https://localhost:8080/"
        },
        "id": "3kFTiaQhEsNa",
        "outputId": "8ee6d78b-32c1-4b7d-94bc-34340c9fc6d2"
      },
      "execution_count": null,
      "outputs": [
        {
          "output_type": "stream",
          "name": "stdout",
          "text": [
            "Protein: MAIVMGR*KGAR*\n"
          ]
        }
      ]
    },
    {
      "cell_type": "markdown",
      "source": [
        "### 🧪 Try it Yourself:"
      ],
      "metadata": {
        "id": "iub82dH5Ewz_"
      }
    },
    {
      "cell_type": "markdown",
      "source": [
        "# Create your own DNA sequence and perform the above operations"
      ],
      "metadata": {
        "id": "UX27cwRyEzb6"
      }
    },
    {
      "cell_type": "markdown",
      "source": [
        "## 📚 3. Reading FASTA Files"
      ],
      "metadata": {
        "id": "788dNtLWE2sF"
      }
    },
    {
      "cell_type": "markdown",
      "source": [
        "### 🔹 Simulate and Read a FASTA file:"
      ],
      "metadata": {
        "id": "caLxOPdAE50v"
      }
    },
    {
      "cell_type": "code",
      "source": [
        "# Create a sample FASTA file (for demo purposes)\n",
        "with open(\"sample.fasta\", \"w\") as f:\n",
        "    f.write(\">seq1\\nATGCGTAACCGTAG\\n>seq2\\nTTAGCCGGGCTA\")"
      ],
      "metadata": {
        "id": "NzYs7Tm8FAxL"
      },
      "execution_count": null,
      "outputs": []
    },
    {
      "cell_type": "markdown",
      "source": [
        "### 🔹 Read using SeqIO:"
      ],
      "metadata": {
        "id": "OY4uHhwVFGJa"
      }
    },
    {
      "cell_type": "code",
      "source": [
        "from Bio import SeqIO\n",
        "\n",
        "for record in SeqIO.parse(\"sample.fasta\", \"fasta\"):\n",
        "    print(\"ID:\", record.id)\n",
        "    print(\"Sequence:\", record.seq)\n",
        "    print(\"Length:\", len(record))"
      ],
      "metadata": {
        "colab": {
          "base_uri": "https://localhost:8080/"
        },
        "id": "5jrdX7lnFIwZ",
        "outputId": "a438d26b-dc52-490a-94a4-487927d6d986"
      },
      "execution_count": null,
      "outputs": [
        {
          "output_type": "stream",
          "name": "stdout",
          "text": [
            "ID: seq1\n",
            "Sequence: ATGCGTAACCGTAG\n",
            "Length: 14\n",
            "ID: seq2\n",
            "Sequence: TTAGCCGGGCTA\n",
            "Length: 12\n"
          ]
        }
      ]
    },
    {
      "cell_type": "markdown",
      "source": [
        "## 💾 4. Writing FASTA Files"
      ],
      "metadata": {
        "id": "oWI1zCxgFRAN"
      }
    },
    {
      "cell_type": "markdown",
      "source": [
        "### 🔹 Create and save a sequence:"
      ],
      "metadata": {
        "id": "4ERk1DYDFVZW"
      }
    },
    {
      "cell_type": "code",
      "source": [
        "from Bio.SeqRecord import SeqRecord\n",
        "\n",
        "record = SeqRecord(dna, id=\"example\", description=\"Demo DNA sequence\")\n",
        "SeqIO.write(record, \"output.fasta\", \"fasta\")"
      ],
      "metadata": {
        "id": "ryQ5nTyjFR2Q"
      },
      "execution_count": null,
      "outputs": []
    },
    {
      "cell_type": "markdown",
      "source": [
        "## 📊 5. Use Case – GC Content Calculation"
      ],
      "metadata": {
        "id": "XHVWoywAFZ3w"
      }
    },
    {
      "cell_type": "code",
      "source": [
        "### 🔹 GC content from FASTA records:"
      ],
      "metadata": {
        "id": "X_9i3Eb5FcjB"
      },
      "execution_count": null,
      "outputs": []
    },
    {
      "cell_type": "code",
      "source": [
        "for record in SeqIO.parse(\"sample.fasta\", \"fasta\"):\n",
        "    seq = record.seq\n",
        "    gc = (seq.count(\"G\") + seq.count(\"C\")) / len(seq) * 100\n",
        "    print(record.id, \"GC Content:\", gc)"
      ],
      "metadata": {
        "id": "hLyCSjVtFhpn"
      },
      "execution_count": null,
      "outputs": []
    },
    {
      "cell_type": "markdown",
      "source": [
        "#📌 4. Use Cases in Biology\n",
        "🧬 Typical Applications:\n",
        "DNA/RNA analysis (GC content, reverse complement, transcription, translation)\n",
        "\n",
        "Protein sequence manipulation\n",
        "\n",
        "FASTA/GenBank file processing\n",
        "\n",
        "Automating pipelines for sequence annotation"
      ],
      "metadata": {
        "id": "RzpvGlLlJEz-"
      }
    },
    {
      "cell_type": "markdown",
      "source": [
        "## 📌 Practice Tasks\n"
      ],
      "metadata": {
        "id": "qS5A3vqBFjz1"
      }
    },
    {
      "cell_type": "markdown",
      "source": [
        "1. Create your own DNA sequence and print:\n",
        "   - Original sequence\n",
        "   - Its reverse complement\n",
        "   - Its RNA transcript\n",
        "   - Its translated protein sequence\n",
        "\n",
        "2. Read a multi-sequence FASTA file and print the GC content for each.\n",
        "\n",
        "3. Write at least one of your sequences into a new FASTA file.\n"
      ],
      "metadata": {
        "id": "84SV2xCPFmuy"
      }
    },
    {
      "cell_type": "markdown",
      "source": [
        "## ✅ Day 4 Summary\n",
        "- Biopython is useful for DNA, RNA, and protein sequence manipulation.\n",
        "- You learned how to transcribe, translate, and reverse complement DNA.\n",
        "- FASTA file parsing helps automate large-scale sequence analysis."
      ],
      "metadata": {
        "id": "EDKudNmMFtFj"
      }
    },
    {
      "cell_type": "markdown",
      "source": [
        "## 📌 Homework"
      ],
      "metadata": {
        "id": "lchSW3cGFyTh"
      }
    },
    {
      "cell_type": "markdown",
      "source": [
        "1. Write a function that calculates GC content and returns \"High GC\" if above 60%.\n",
        "2. Write a script that reads a FASTA file and finds the longest sequence.\n"
      ],
      "metadata": {
        "id": "yGywow4dF4QA"
      }
    },
    {
      "cell_type": "code",
      "source": [
        "def check_gc_content(dna_sequence):\n",
        "    dna_sequence = dna_sequence.upper()\n",
        "    g_count = dna_sequence.count('G')\n",
        "    c_count = dna_sequence.count('C')\n",
        "    gc_content = (g_count + c_count) / len(dna_sequence) * 100\n",
        "\n",
        "    if gc_content > 60:\n",
        "        return \"High GC\"\n",
        "    else:\n",
        "        return \"Normal GC\"\n"
      ],
      "metadata": {
        "id": "VMhyMI8_GREK"
      },
      "execution_count": null,
      "outputs": []
    },
    {
      "cell_type": "code",
      "source": [
        "print(check_gc_content(\"ATGCGCGCGCGTAC\"))  # Output: High GC\n"
      ],
      "metadata": {
        "colab": {
          "base_uri": "https://localhost:8080/"
        },
        "id": "GKj2thYOGVbb",
        "outputId": "f692e0a4-711e-4b91-acc1-751c6738d1e9"
      },
      "execution_count": null,
      "outputs": [
        {
          "output_type": "stream",
          "name": "stdout",
          "text": [
            "High GC\n"
          ]
        }
      ]
    },
    {
      "cell_type": "code",
      "source": [
        "def read_fasta_and_find_longest(filepath):\n",
        "    with open(filepath, 'r') as file:\n",
        "        sequences = {}\n",
        "        current_header = \"\"\n",
        "        current_sequence = \"\"\n",
        "\n",
        "        for line in file:\n",
        "            line = line.strip()\n",
        "            if line.startswith(\">\"):\n",
        "                if current_header:\n",
        "                    sequences[current_header] = current_sequence\n",
        "                current_header = line[1:]  # remove '>'\n",
        "                current_sequence = \"\"\n",
        "            else:\n",
        "                current_sequence += line\n",
        "\n",
        "        # Add the last sequence\n",
        "        if current_header:\n",
        "            sequences[current_header] = current_sequence\n",
        "\n",
        "    # Find the longest sequence\n",
        "    longest_header = max(sequences, key=lambda k: len(sequences[k]))\n",
        "    longest_seq = sequences[longest_header]\n",
        "\n",
        "    print(\"Longest sequence ID:\", longest_header)\n",
        "    print(\"Length:\", len(longest_seq))\n"
      ],
      "metadata": {
        "id": "HhvZZXlIGvMc"
      },
      "execution_count": null,
      "outputs": []
    },
    {
      "cell_type": "code",
      "source": [
        "read_fasta_and_find_longest(\"sample.fasta\")  # Replace with your FASTA filename\n"
      ],
      "metadata": {
        "colab": {
          "base_uri": "https://localhost:8080/"
        },
        "id": "ohmHr7b_HMXX",
        "outputId": "ed58df67-8ce3-4a73-fdf8-2e96f7368c53"
      },
      "execution_count": null,
      "outputs": [
        {
          "output_type": "stream",
          "name": "stdout",
          "text": [
            "Longest sequence ID: seq2\n",
            "Length: 19\n"
          ]
        }
      ]
    },
    {
      "cell_type": "markdown",
      "source": [
        "# 🧪 Python for Biologists - Day 5: Data Analysis with NumPy and Pandas"
      ],
      "metadata": {
        "id": "f5MYxwu3KN5K"
      }
    },
    {
      "cell_type": "markdown",
      "source": [
        "## 🔹 Objective:\n",
        "- Learn basic data analysis using NumPy and Pandas\n",
        "- Perform numerical operations on biological data\n",
        "- Analyze gene expression data using DataFrames\n",
        "- Filter and summarize datasets efficiently"
      ],
      "metadata": {
        "id": "3NEu4uxgKPBS"
      }
    },
    {
      "cell_type": "markdown",
      "source": [
        "## 📦 1. Importing Libraries"
      ],
      "metadata": {
        "id": "B-djTVgUKS5K"
      }
    },
    {
      "cell_type": "code",
      "source": [
        "import numpy as np\n",
        "import pandas as pd"
      ],
      "metadata": {
        "id": "rkJOWxVGKZkk"
      },
      "execution_count": null,
      "outputs": []
    },
    {
      "cell_type": "markdown",
      "source": [
        "## 🔢 2. NumPy Basics"
      ],
      "metadata": {
        "id": "U5Mv_5XgKlag"
      }
    },
    {
      "cell_type": "markdown",
      "source": [
        "### 🔹 Creating Arrays:"
      ],
      "metadata": {
        "id": "FGk1BKVyKuCB"
      }
    },
    {
      "cell_type": "code",
      "source": [
        "expr_levels = np.array([3.5, 5.1, 2.8, 6.3])\n",
        "print(\"Expression Levels:\", expr_levels)"
      ],
      "metadata": {
        "colab": {
          "base_uri": "https://localhost:8080/"
        },
        "id": "1UsvLS_TKwOb",
        "outputId": "07813310-5ca4-48d4-bb9f-61c5d2e37753"
      },
      "execution_count": null,
      "outputs": [
        {
          "output_type": "stream",
          "name": "stdout",
          "text": [
            "Expression Levels: [3.5 5.1 2.8 6.3]\n"
          ]
        }
      ]
    },
    {
      "cell_type": "markdown",
      "source": [
        "### 🔹 2D Array:"
      ],
      "metadata": {
        "id": "ZL57pNcyK1vM"
      }
    },
    {
      "cell_type": "code",
      "source": [
        "matrix = np.array([[3.5, 2.8], [6.3, 5.1]])\n",
        "print(\"Expression Matrix:\\n\", matrix)"
      ],
      "metadata": {
        "colab": {
          "base_uri": "https://localhost:8080/"
        },
        "id": "X5ZErm1FK4Y2",
        "outputId": "66c63c74-ee6d-4cec-97db-62f5b9bc59b2"
      },
      "execution_count": null,
      "outputs": [
        {
          "output_type": "stream",
          "name": "stdout",
          "text": [
            "Expression Matrix:\n",
            " [[3.5 2.8]\n",
            " [6.3 5.1]]\n"
          ]
        }
      ]
    },
    {
      "cell_type": "markdown",
      "source": [
        "### 🔹 NumPy Operations:"
      ],
      "metadata": {
        "id": "1N0bhQDaK75J"
      }
    },
    {
      "cell_type": "code",
      "source": [
        "print(\"Mean:\", expr_levels.mean())\n",
        "print(\"Max:\", expr_levels.max())\n",
        "print(\"Min:\", expr_levels.min())\n",
        "print(\"Increased by 2:\", expr_levels + 2)"
      ],
      "metadata": {
        "colab": {
          "base_uri": "https://localhost:8080/"
        },
        "id": "v4OplALIK982",
        "outputId": "a70f2889-76dd-4763-e9a1-c3c9b421fae3"
      },
      "execution_count": null,
      "outputs": [
        {
          "output_type": "stream",
          "name": "stdout",
          "text": [
            "Mean: 4.425\n",
            "Max: 6.3\n",
            "Min: 2.8\n",
            "Increased by 2: [5.5 7.1 4.8 8.3]\n"
          ]
        }
      ]
    },
    {
      "cell_type": "markdown",
      "source": [
        "### 🧪 Try it Yourself:"
      ],
      "metadata": {
        "id": "1UTh8FNmLBk7"
      }
    },
    {
      "cell_type": "markdown",
      "source": [
        "# Create an array of 5 fold changes and calculate mean and standard deviation"
      ],
      "metadata": {
        "id": "1NqpHictLEe3"
      }
    },
    {
      "cell_type": "code",
      "source": [
        "import numpy as np\n",
        "\n",
        "# Create an array of 5 fold change values\n",
        "fold_changes = np.array([1.2, 2.5, 3.1, 0.9, 4.4])\n",
        "\n",
        "# Calculate mean\n",
        "mean_value = np.mean(fold_changes)\n",
        "\n",
        "# Calculate standard deviation\n",
        "std_dev = np.std(fold_changes)\n",
        "\n",
        "# Print results\n",
        "print(\"Fold changes:\", fold_changes)\n",
        "print(\"Mean:\", mean_value)\n",
        "print(\"Standard Deviation:\", std_dev)\n"
      ],
      "metadata": {
        "colab": {
          "base_uri": "https://localhost:8080/"
        },
        "id": "QyDtRh1HLObM",
        "outputId": "96d278c6-e9a1-4471-9614-6155d0382d72"
      },
      "execution_count": null,
      "outputs": [
        {
          "output_type": "stream",
          "name": "stdout",
          "text": [
            "Fold changes: [1.2 2.5 3.1 0.9 4.4]\n",
            "Mean: 2.4200000000000004\n",
            "Standard Deviation: 1.2796874618437115\n"
          ]
        }
      ]
    },
    {
      "cell_type": "markdown",
      "source": [
        "## 📁 3. Pandas Basics"
      ],
      "metadata": {
        "id": "57OKtvDuLRNa"
      }
    },
    {
      "cell_type": "markdown",
      "source": [
        "### 🔹 Creating a DataFrame:"
      ],
      "metadata": {
        "id": "goCB-ISgLUHe"
      }
    },
    {
      "cell_type": "code",
      "source": [
        "data = {\n",
        "    \"Gene\": [\"TP53\", \"BRCA1\", \"EGFR\", \"MYC\"],\n",
        "    \"Expression\": [3.2, 6.8, 5.1, 7.3]\n",
        "}\n",
        "df = pd.DataFrame(data)\n",
        "print(df)"
      ],
      "metadata": {
        "colab": {
          "base_uri": "https://localhost:8080/"
        },
        "id": "fCSjaXjZLWK4",
        "outputId": "e28f5c89-0db3-4af1-b76d-fc26f9948611"
      },
      "execution_count": null,
      "outputs": [
        {
          "output_type": "stream",
          "name": "stdout",
          "text": [
            "    Gene  Expression\n",
            "0   TP53         3.2\n",
            "1  BRCA1         6.8\n",
            "2   EGFR         5.1\n",
            "3    MYC         7.3\n"
          ]
        }
      ]
    },
    {
      "cell_type": "markdown",
      "source": [
        "### 🔹 Access Columns and Rows:"
      ],
      "metadata": {
        "id": "kNwGvMpwLaQ5"
      }
    },
    {
      "cell_type": "code",
      "source": [
        "print(\"Genes:\", df[\"Gene\"])\n",
        "print(\"First row:\\n\", df.iloc[0])"
      ],
      "metadata": {
        "colab": {
          "base_uri": "https://localhost:8080/"
        },
        "id": "7yoX9yiNLc7v",
        "outputId": "21b10a8b-8ab0-4be5-da0a-9c54aa833b2e"
      },
      "execution_count": null,
      "outputs": [
        {
          "output_type": "stream",
          "name": "stdout",
          "text": [
            "Genes: 0     TP53\n",
            "1    BRCA1\n",
            "2     EGFR\n",
            "3      MYC\n",
            "Name: Gene, dtype: object\n",
            "First row:\n",
            " Gene          TP53\n",
            "Expression     3.2\n",
            "Name: 0, dtype: object\n"
          ]
        }
      ]
    },
    {
      "cell_type": "markdown",
      "source": [
        "### 🔹 Basic Stats:"
      ],
      "metadata": {
        "id": "vX-OgzDdLfpL"
      }
    },
    {
      "cell_type": "code",
      "source": [
        "print(\"Average expression:\", df[\"Expression\"].mean())"
      ],
      "metadata": {
        "colab": {
          "base_uri": "https://localhost:8080/"
        },
        "id": "QQt6Zjp1Loj1",
        "outputId": "a05e6ff5-931d-4dd2-df38-3a329f03191a"
      },
      "execution_count": null,
      "outputs": [
        {
          "output_type": "stream",
          "name": "stdout",
          "text": [
            "Average expression: 5.6\n"
          ]
        }
      ]
    },
    {
      "cell_type": "markdown",
      "source": [
        "## 🔍 4. Filtering and Conditions"
      ],
      "metadata": {
        "id": "__knegyGLtwf"
      }
    },
    {
      "cell_type": "markdown",
      "source": [
        "### 🔹 Genes with expression > 5:"
      ],
      "metadata": {
        "id": "4vHDqAo5Ly0y"
      }
    },
    {
      "cell_type": "code",
      "source": [
        "upregulated = df[df[\"Expression\"] > 5.0]\n",
        "print(\"Upregulated genes:\\n\", upregulated)"
      ],
      "metadata": {
        "colab": {
          "base_uri": "https://localhost:8080/"
        },
        "id": "4-pLbJhtLwDz",
        "outputId": "60f1bc8e-d188-4abe-e692-552b32fc8fe5"
      },
      "execution_count": null,
      "outputs": [
        {
          "output_type": "stream",
          "name": "stdout",
          "text": [
            "Upregulated genes:\n",
            "     Gene  Expression\n",
            "1  BRCA1         6.8\n",
            "2   EGFR         5.1\n",
            "3    MYC         7.3\n"
          ]
        }
      ]
    },
    {
      "cell_type": "markdown",
      "source": [
        "### 🧪 Try it Yourself:"
      ],
      "metadata": {
        "id": "pwwYhK8eL3rU"
      }
    },
    {
      "cell_type": "markdown",
      "source": [
        "# Filter genes with expression between 4 and 7"
      ],
      "metadata": {
        "id": "eKYkZuMwL7iI"
      }
    },
    {
      "cell_type": "code",
      "source": [
        "genes = {\n",
        "    \"TP53\": 7.8,\n",
        "    \"BRCA1\": 5.2,\n",
        "    \"EGFR\": 3.9,\n",
        "    \"MYC\": 6.5,\n",
        "    \"BRCA2\": 4.0\n",
        "}\n"
      ],
      "metadata": {
        "id": "6bAitYnXMOay"
      },
      "execution_count": null,
      "outputs": []
    },
    {
      "cell_type": "code",
      "source": [
        "# Filter genes with expression between 4 and 7 (inclusive)\n",
        "for gene, expression in genes.items():\n",
        "    if 4 <= expression <= 7:\n",
        "        print(gene, \"has expression\", expression)\n"
      ],
      "metadata": {
        "colab": {
          "base_uri": "https://localhost:8080/"
        },
        "id": "reUyhwqpMFgW",
        "outputId": "8d826b39-99be-4a3d-a471-7dcef9be1784"
      },
      "execution_count": null,
      "outputs": [
        {
          "output_type": "stream",
          "name": "stdout",
          "text": [
            "BRCA1 has expression 5.2\n",
            "MYC has expression 6.5\n",
            "BRCA2 has expression 4.0\n"
          ]
        }
      ]
    },
    {
      "cell_type": "markdown",
      "source": [
        "## 🧬 5. Practical Application – Expression Analysis"
      ],
      "metadata": {
        "id": "TVhKzJO8MUwI"
      }
    },
    {
      "cell_type": "markdown",
      "source": [
        "### 🔹 Build and analyze gene table:"
      ],
      "metadata": {
        "id": "KoBHdZG0MZLJ"
      }
    },
    {
      "cell_type": "code",
      "source": [
        "genes = [\"CDK2\", \"TP53\", \"VEGF\", \"EGFR\"]\n",
        "expr = [4.3, 7.5, 6.0, 5.4]\n",
        "df = pd.DataFrame({\"Gene\": genes, \"Expression\": expr})\n",
        "\n",
        "print(df)\n",
        "print(\"Highly expressed genes (>6):\\n\", df[df[\"Expression\"] > 6])"
      ],
      "metadata": {
        "colab": {
          "base_uri": "https://localhost:8080/"
        },
        "id": "_1RSA0jtMXL9",
        "outputId": "8129799d-eddc-4bbb-ada6-d0ae3da44d86"
      },
      "execution_count": null,
      "outputs": [
        {
          "output_type": "stream",
          "name": "stdout",
          "text": [
            "   Gene  Expression\n",
            "0  CDK2         4.3\n",
            "1  TP53         7.5\n",
            "2  VEGF         6.0\n",
            "3  EGFR         5.4\n",
            "Highly expressed genes (>6):\n",
            "    Gene  Expression\n",
            "1  TP53         7.5\n"
          ]
        }
      ]
    },
    {
      "cell_type": "markdown",
      "source": [
        "## 📌 Practice Tasks"
      ],
      "metadata": {
        "id": "SQmduT38MsV5"
      }
    },
    {
      "cell_type": "markdown",
      "source": [
        "1. Create a NumPy array with 6 expression values. Calculate max, min, and mean.\n",
        "2. Create a Pandas DataFrame with 5 genes and their expression. Filter genes with expression < 4.\n",
        "3. Add a new column 'Status' with value \"Upregulated\" if expression > 5.\n"
      ],
      "metadata": {
        "id": "2d1XF6Y5MzU3"
      }
    },
    {
      "cell_type": "code",
      "source": [
        "import numpy as np\n",
        "\n",
        "# Create a NumPy array with 6 expression values\n",
        "expression_values = np.array([2.5, 5.8, 3.3, 6.7, 1.9, 4.2])\n",
        "\n",
        "# Calculate max, min, and mean\n",
        "maximum = np.max(expression_values)\n",
        "minimum = np.min(expression_values)\n",
        "mean_val = np.mean(expression_values)\n",
        "\n",
        "# Print results\n",
        "print(\"Max:\", maximum)\n",
        "print(\"Min:\", minimum)\n",
        "print(\"Mean:\", mean_val)\n"
      ],
      "metadata": {
        "colab": {
          "base_uri": "https://localhost:8080/"
        },
        "id": "KJOeI9h0M9M1",
        "outputId": "792865b1-bb1a-4358-e0b9-dc22cd73e24e"
      },
      "execution_count": null,
      "outputs": [
        {
          "output_type": "stream",
          "name": "stdout",
          "text": [
            "Max: 6.7\n",
            "Min: 1.9\n",
            "Mean: 4.066666666666666\n"
          ]
        }
      ]
    },
    {
      "cell_type": "code",
      "source": [
        "import pandas as pd\n",
        "\n",
        "# Create a DataFrame with gene names and expression values\n",
        "data = {\n",
        "    'Gene': ['TP53', 'BRCA1', 'EGFR', 'MYC', 'BRCA2'],\n",
        "    'Expression': [6.2, 3.1, 4.7, 2.8, 5.5]\n",
        "}\n",
        "\n",
        "df = pd.DataFrame(data)\n",
        "\n",
        "# Filter genes with expression < 4\n",
        "filtered = df[df['Expression'] < 4]\n",
        "print(\"Genes with expression < 4:\")\n",
        "print(filtered)\n"
      ],
      "metadata": {
        "colab": {
          "base_uri": "https://localhost:8080/"
        },
        "id": "8lDI7WH9M-1y",
        "outputId": "4e083896-71de-466d-8595-ad95f1d055dd"
      },
      "execution_count": null,
      "outputs": [
        {
          "output_type": "stream",
          "name": "stdout",
          "text": [
            "Genes with expression < 4:\n",
            "    Gene  Expression\n",
            "1  BRCA1         3.1\n",
            "3    MYC         2.8\n"
          ]
        }
      ]
    },
    {
      "cell_type": "code",
      "source": [
        "# Add 'Status' column\n",
        "df['Status'] = df['Expression'].apply(lambda x: 'Upregulated' if x > 5 else 'Normal')\n",
        "\n",
        "# Show full DataFrame\n",
        "print(\"\\nDataFrame with Status:\")\n",
        "print(df)\n"
      ],
      "metadata": {
        "colab": {
          "base_uri": "https://localhost:8080/"
        },
        "id": "9rKzM3k0NB5O",
        "outputId": "839268d6-2c32-4298-bc08-55bc0898cd74"
      },
      "execution_count": null,
      "outputs": [
        {
          "output_type": "stream",
          "name": "stdout",
          "text": [
            "\n",
            "DataFrame with Status:\n",
            "    Gene  Expression       Status\n",
            "0   TP53         6.2  Upregulated\n",
            "1  BRCA1         3.1       Normal\n",
            "2   EGFR         4.7       Normal\n",
            "3    MYC         2.8       Normal\n",
            "4  BRCA2         5.5  Upregulated\n"
          ]
        }
      ]
    },
    {
      "cell_type": "markdown",
      "source": [
        "## ✅ Day 5 Summary\n",
        "\n",
        "- NumPy helps perform fast mathematical operations on biological arrays.\n",
        "- Pandas is ideal for handling gene expression and sample metadata.\n",
        "- You practiced filtering, accessing, and computing on DataFrames."
      ],
      "metadata": {
        "id": "nAHfsHQdNFxo"
      }
    },
    {
      "cell_type": "markdown",
      "source": [
        "## 📌 Homework"
      ],
      "metadata": {
        "id": "ApC8tobANMEk"
      }
    },
    {
      "cell_type": "markdown",
      "source": [
        "1. Create a DataFrame of 10 genes with random expression values.\n",
        "2. Calculate average, max, and number of genes with expression above average."
      ],
      "metadata": {
        "id": "srhzCxK4NTkt"
      }
    },
    {
      "cell_type": "code",
      "source": [
        "import pandas as pd\n",
        "import numpy as np\n",
        "\n",
        "# Create a list of 10 gene names\n",
        "genes = [f\"Gene_{i+1}\" for i in range(10)]\n",
        "\n",
        "# Generate 10 random expression values between 1 and 10\n",
        "expression_values = np.random.uniform(low=1.0, high=10.0, size=10)\n",
        "\n",
        "# Create the DataFrame\n",
        "df = pd.DataFrame({\n",
        "    \"Gene\": genes,\n",
        "    \"Expression\": expression_values\n",
        "})\n",
        "\n",
        "print(\"Gene Expression DataFrame:\")\n",
        "print(df)\n"
      ],
      "metadata": {
        "colab": {
          "base_uri": "https://localhost:8080/"
        },
        "id": "lm00DAK0NcVv",
        "outputId": "b1f2ff8f-6316-401c-c667-7801567b849b"
      },
      "execution_count": null,
      "outputs": [
        {
          "output_type": "stream",
          "name": "stdout",
          "text": [
            "Gene Expression DataFrame:\n",
            "      Gene  Expression\n",
            "0   Gene_1    6.246473\n",
            "1   Gene_2    5.006186\n",
            "2   Gene_3    7.119211\n",
            "3   Gene_4    8.453209\n",
            "4   Gene_5    8.601912\n",
            "5   Gene_6    8.294010\n",
            "6   Gene_7    8.823619\n",
            "7   Gene_8    6.711167\n",
            "8   Gene_9    4.779288\n",
            "9  Gene_10    1.493994\n"
          ]
        }
      ]
    },
    {
      "cell_type": "code",
      "source": [
        "# Calculate average expression\n",
        "average_expression = df['Expression'].mean()\n",
        "\n",
        "# Calculate maximum expression\n",
        "max_expression = df['Expression'].max()\n",
        "\n",
        "# Count number of genes with expression above average\n",
        "above_avg_count = (df['Expression'] > average_expression).sum()\n",
        "\n",
        "# Print the results\n",
        "print(\"\\nAverage Expression:\", average_expression)\n",
        "print(\"Maximum Expression:\", max_expression)\n",
        "print(\"Number of genes above average:\", above_avg_count)\n"
      ],
      "metadata": {
        "colab": {
          "base_uri": "https://localhost:8080/"
        },
        "id": "xT_grgJyNeRZ",
        "outputId": "99871763-6a5e-41b1-9449-51908b0db3ac"
      },
      "execution_count": null,
      "outputs": [
        {
          "output_type": "stream",
          "name": "stdout",
          "text": [
            "\n",
            "Average Expression: 6.5529070008389425\n",
            "Maximum Expression: 8.823619243634596\n",
            "Number of genes above average: 6\n"
          ]
        }
      ]
    }
  ]
}